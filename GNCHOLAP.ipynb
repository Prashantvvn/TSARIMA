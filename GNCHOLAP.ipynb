{
  "nbformat": 4,
  "nbformat_minor": 0,
  "metadata": {
    "colab": {
      "provenance": []
    },
    "kernelspec": {
      "name": "python3",
      "display_name": "Python 3"
    },
    "language_info": {
      "name": "python"
    }
  },
  "cells": [
    {
      "cell_type": "code",
      "metadata": {
        "colab": {
          "base_uri": "https://localhost:8080/"
        },
        "id": "ZyX69htF9D1x",
        "outputId": "12c07a6a-7953-4360-cc9a-041be79066ea"
      },
      "source": [
        "from google.colab import drive\n",
        "drive.mount('/content/drive')"
      ],
      "execution_count": null,
      "outputs": [
        {
          "output_type": "stream",
          "text": [
            "Drive already mounted at /content/drive; to attempt to forcibly remount, call drive.mount(\"/content/drive\", force_remount=True).\n"
          ],
          "name": "stdout"
        }
      ]
    },
    {
      "cell_type": "code",
      "metadata": {
        "colab": {
          "resources": {
            "http://localhost:8080/nbextensions/google.colab/files.js": {
              "data": "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",
              "ok": true,
              "headers": [
                [
                  "content-type",
                  "application/javascript"
                ]
              ],
              "status": 200,
              "status_text": ""
            }
          },
          "base_uri": "https://localhost:8080/",
          "height": 72
        },
        "id": "2jKxQdFb9alH",
        "outputId": "567b9f03-e53c-45eb-e5a9-a93736d7461e"
      },
      "source": [
        "from google.colab import files\n",
        "uploaded = files.upload()"
      ],
      "execution_count": null,
      "outputs": [
        {
          "output_type": "display_data",
          "data": {
            "text/html": [
              "\n",
              "     <input type=\"file\" id=\"files-f09d4230-5236-4ac4-9e76-3bc89fbfb6e7\" name=\"files[]\" multiple disabled\n",
              "        style=\"border:none\" />\n",
              "     <output id=\"result-f09d4230-5236-4ac4-9e76-3bc89fbfb6e7\">\n",
              "      Upload widget is only available when the cell has been executed in the\n",
              "      current browser session. Please rerun this cell to enable.\n",
              "      </output>\n",
              "      <script src=\"/nbextensions/google.colab/files.js\"></script> "
            ],
            "text/plain": [
              "<IPython.core.display.HTML object>"
            ]
          },
          "metadata": {
            "tags": []
          }
        },
        {
          "output_type": "stream",
          "text": [
            "Saving GNCHOLAP_DATES.csv to GNCHOLAP_DATES.csv\n"
          ],
          "name": "stdout"
        }
      ]
    },
    {
      "cell_type": "code",
      "metadata": {
        "id": "y5WIeqOd99HP"
      },
      "source": [
        "# Required libraries\n",
        "\n",
        "import pandas as pd"
      ],
      "execution_count": null,
      "outputs": []
    },
    {
      "cell_type": "code",
      "metadata": {
        "id": "G8JtkA3p-Bk_"
      },
      "source": [
        "#Read the dataframe\n",
        "\n",
        "df = pd.read_csv('GNCHOLAP_DATES.csv', parse_dates=True)"
      ],
      "execution_count": null,
      "outputs": []
    },
    {
      "cell_type": "code",
      "metadata": {
        "colab": {
          "base_uri": "https://localhost:8080/"
        },
        "id": "-cO4tXwATqUr",
        "outputId": "d842434b-5cd2-4443-c124-c85bf763d6e6"
      },
      "source": [
        "# Look at the structure of the dataframe\n",
        "\n",
        "df.info()"
      ],
      "execution_count": null,
      "outputs": [
        {
          "output_type": "stream",
          "text": [
            "<class 'pandas.core.frame.DataFrame'>\n",
            "RangeIndex: 1037 entries, 0 to 1036\n",
            "Data columns (total 4 columns):\n",
            " #   Column            Non-Null Count  Dtype \n",
            "---  ------            --------------  ----- \n",
            " 0   SERVICE_CODE      1037 non-null   object\n",
            " 1   PROCEDURE_CODE    1037 non-null   object\n",
            " 2   PERFORM_DATE      1037 non-null   object\n",
            " 3   NO_OF_PROCEDURES  1037 non-null   int64 \n",
            "dtypes: int64(1), object(3)\n",
            "memory usage: 32.5+ KB\n"
          ],
          "name": "stdout"
        }
      ]
    },
    {
      "cell_type": "code",
      "metadata": {
        "id": "DgTNCpbQTygH"
      },
      "source": [
        "# Inference:\n",
        "\n",
        "# 1. All are object type\n",
        "# 2. PERFORM_DATE has to be date time type"
      ],
      "execution_count": null,
      "outputs": []
    },
    {
      "cell_type": "code",
      "metadata": {
        "id": "8nM2_SlLTpOW"
      },
      "source": [
        "# Convert perform date to date type\n",
        "\n",
        "df[\"PERFORM_DATE\"]= pd.to_datetime(df[\"PERFORM_DATE\"])\n",
        "\n"
      ],
      "execution_count": null,
      "outputs": []
    },
    {
      "cell_type": "code",
      "metadata": {
        "colab": {
          "base_uri": "https://localhost:8080/",
          "height": 419
        },
        "id": "ye3QnVRv5dxW",
        "outputId": "a8ad5f64-961c-49cb-a312-acbe2d397211"
      },
      "source": [
        "# df[df.index.duplicated()]\n",
        "\n",
        "df"
      ],
      "execution_count": null,
      "outputs": [
        {
          "output_type": "execute_result",
          "data": {
            "text/html": [
              "<div>\n",
              "<style scoped>\n",
              "    .dataframe tbody tr th:only-of-type {\n",
              "        vertical-align: middle;\n",
              "    }\n",
              "\n",
              "    .dataframe tbody tr th {\n",
              "        vertical-align: top;\n",
              "    }\n",
              "\n",
              "    .dataframe thead th {\n",
              "        text-align: right;\n",
              "    }\n",
              "</style>\n",
              "<table border=\"1\" class=\"dataframe\">\n",
              "  <thead>\n",
              "    <tr style=\"text-align: right;\">\n",
              "      <th></th>\n",
              "      <th>SERVICE_CODE</th>\n",
              "      <th>PROCEDURE_CODE</th>\n",
              "      <th>PERFORM_DATE</th>\n",
              "      <th>NO_OF_PROCEDURES</th>\n",
              "    </tr>\n",
              "  </thead>\n",
              "  <tbody>\n",
              "    <tr>\n",
              "      <th>0</th>\n",
              "      <td>GENERAL</td>\n",
              "      <td>GNCHOLAP</td>\n",
              "      <td>2015-08-18</td>\n",
              "      <td>1</td>\n",
              "    </tr>\n",
              "    <tr>\n",
              "      <th>1</th>\n",
              "      <td>GENERAL</td>\n",
              "      <td>GNCHOLAP</td>\n",
              "      <td>2015-08-20</td>\n",
              "      <td>2</td>\n",
              "    </tr>\n",
              "    <tr>\n",
              "      <th>2</th>\n",
              "      <td>GENERAL</td>\n",
              "      <td>GNCHOLAP</td>\n",
              "      <td>2015-08-24</td>\n",
              "      <td>1</td>\n",
              "    </tr>\n",
              "    <tr>\n",
              "      <th>3</th>\n",
              "      <td>GENERAL</td>\n",
              "      <td>GNCHOLAP</td>\n",
              "      <td>2015-08-27</td>\n",
              "      <td>1</td>\n",
              "    </tr>\n",
              "    <tr>\n",
              "      <th>4</th>\n",
              "      <td>GENERAL</td>\n",
              "      <td>GNCHOLAP</td>\n",
              "      <td>2015-10-08</td>\n",
              "      <td>1</td>\n",
              "    </tr>\n",
              "    <tr>\n",
              "      <th>...</th>\n",
              "      <td>...</td>\n",
              "      <td>...</td>\n",
              "      <td>...</td>\n",
              "      <td>...</td>\n",
              "    </tr>\n",
              "    <tr>\n",
              "      <th>1032</th>\n",
              "      <td>General</td>\n",
              "      <td>GNCHOLAP</td>\n",
              "      <td>2021-04-10</td>\n",
              "      <td>1</td>\n",
              "    </tr>\n",
              "    <tr>\n",
              "      <th>1033</th>\n",
              "      <td>General</td>\n",
              "      <td>GNCHOLAP</td>\n",
              "      <td>2021-04-12</td>\n",
              "      <td>1</td>\n",
              "    </tr>\n",
              "    <tr>\n",
              "      <th>1034</th>\n",
              "      <td>General</td>\n",
              "      <td>GNCHOLAP</td>\n",
              "      <td>2021-04-13</td>\n",
              "      <td>1</td>\n",
              "    </tr>\n",
              "    <tr>\n",
              "      <th>1035</th>\n",
              "      <td>General</td>\n",
              "      <td>GNCHOLAP</td>\n",
              "      <td>2021-04-18</td>\n",
              "      <td>1</td>\n",
              "    </tr>\n",
              "    <tr>\n",
              "      <th>1036</th>\n",
              "      <td>General</td>\n",
              "      <td>GNCHOLAP</td>\n",
              "      <td>2021-04-19</td>\n",
              "      <td>2</td>\n",
              "    </tr>\n",
              "  </tbody>\n",
              "</table>\n",
              "<p>1037 rows × 4 columns</p>\n",
              "</div>"
            ],
            "text/plain": [
              "     SERVICE_CODE PROCEDURE_CODE PERFORM_DATE  NO_OF_PROCEDURES\n",
              "0         GENERAL       GNCHOLAP   2015-08-18                 1\n",
              "1         GENERAL       GNCHOLAP   2015-08-20                 2\n",
              "2         GENERAL       GNCHOLAP   2015-08-24                 1\n",
              "3         GENERAL       GNCHOLAP   2015-08-27                 1\n",
              "4         GENERAL       GNCHOLAP   2015-10-08                 1\n",
              "...           ...            ...          ...               ...\n",
              "1032      General       GNCHOLAP   2021-04-10                 1\n",
              "1033      General       GNCHOLAP   2021-04-12                 1\n",
              "1034      General       GNCHOLAP   2021-04-13                 1\n",
              "1035      General       GNCHOLAP   2021-04-18                 1\n",
              "1036      General       GNCHOLAP   2021-04-19                 2\n",
              "\n",
              "[1037 rows x 4 columns]"
            ]
          },
          "metadata": {
            "tags": []
          },
          "execution_count": 44
        }
      ]
    },
    {
      "cell_type": "code",
      "metadata": {
        "id": "aHOcN0Q-TM0C"
      },
      "source": [
        "df = df[['PERFORM_DATE','NO_OF_PROCEDURES']]\n",
        "\n",
        "df = df.groupby(['PERFORM_DATE'])['NO_OF_PROCEDURES'].sum().reset_index()"
      ],
      "execution_count": null,
      "outputs": []
    },
    {
      "cell_type": "code",
      "metadata": {
        "colab": {
          "base_uri": "https://localhost:8080/",
          "height": 204
        },
        "id": "0MblyLkH-JZh",
        "outputId": "6f8860bb-c505-4e66-9f12-702a837030b6"
      },
      "source": [
        "# View the dataset\n",
        "\n",
        "df.head()"
      ],
      "execution_count": null,
      "outputs": [
        {
          "output_type": "execute_result",
          "data": {
            "text/html": [
              "<div>\n",
              "<style scoped>\n",
              "    .dataframe tbody tr th:only-of-type {\n",
              "        vertical-align: middle;\n",
              "    }\n",
              "\n",
              "    .dataframe tbody tr th {\n",
              "        vertical-align: top;\n",
              "    }\n",
              "\n",
              "    .dataframe thead th {\n",
              "        text-align: right;\n",
              "    }\n",
              "</style>\n",
              "<table border=\"1\" class=\"dataframe\">\n",
              "  <thead>\n",
              "    <tr style=\"text-align: right;\">\n",
              "      <th></th>\n",
              "      <th>PERFORM_DATE</th>\n",
              "      <th>NO_OF_PROCEDURES</th>\n",
              "    </tr>\n",
              "  </thead>\n",
              "  <tbody>\n",
              "    <tr>\n",
              "      <th>0</th>\n",
              "      <td>2015-08-18</td>\n",
              "      <td>1</td>\n",
              "    </tr>\n",
              "    <tr>\n",
              "      <th>1</th>\n",
              "      <td>2015-08-20</td>\n",
              "      <td>2</td>\n",
              "    </tr>\n",
              "    <tr>\n",
              "      <th>2</th>\n",
              "      <td>2015-08-24</td>\n",
              "      <td>1</td>\n",
              "    </tr>\n",
              "    <tr>\n",
              "      <th>3</th>\n",
              "      <td>2015-08-27</td>\n",
              "      <td>1</td>\n",
              "    </tr>\n",
              "    <tr>\n",
              "      <th>4</th>\n",
              "      <td>2015-10-08</td>\n",
              "      <td>1</td>\n",
              "    </tr>\n",
              "  </tbody>\n",
              "</table>\n",
              "</div>"
            ],
            "text/plain": [
              "  PERFORM_DATE  NO_OF_PROCEDURES\n",
              "0   2015-08-18                 1\n",
              "1   2015-08-20                 2\n",
              "2   2015-08-24                 1\n",
              "3   2015-08-27                 1\n",
              "4   2015-10-08                 1"
            ]
          },
          "metadata": {
            "tags": []
          },
          "execution_count": 46
        }
      ]
    },
    {
      "cell_type": "code",
      "metadata": {
        "colab": {
          "base_uri": "https://localhost:8080/",
          "height": 80
        },
        "id": "JvisRyFHXvk0",
        "outputId": "7d1e8780-a1f7-4b80-d3cb-942be02f48d6"
      },
      "source": [
        "#set index\n",
        "\n",
        "df.set_index('PERFORM_DATE', inplace = True)\n",
        "\n"
      ],
      "execution_count": null,
      "outputs": [
        {
          "output_type": "execute_result",
          "data": {
            "text/html": [
              "<div>\n",
              "<style scoped>\n",
              "    .dataframe tbody tr th:only-of-type {\n",
              "        vertical-align: middle;\n",
              "    }\n",
              "\n",
              "    .dataframe tbody tr th {\n",
              "        vertical-align: top;\n",
              "    }\n",
              "\n",
              "    .dataframe thead th {\n",
              "        text-align: right;\n",
              "    }\n",
              "</style>\n",
              "<table border=\"1\" class=\"dataframe\">\n",
              "  <thead>\n",
              "    <tr style=\"text-align: right;\">\n",
              "      <th></th>\n",
              "      <th>NO_OF_PROCEDURES</th>\n",
              "    </tr>\n",
              "    <tr>\n",
              "      <th>PERFORM_DATE</th>\n",
              "      <th></th>\n",
              "    </tr>\n",
              "  </thead>\n",
              "  <tbody>\n",
              "  </tbody>\n",
              "</table>\n",
              "</div>"
            ],
            "text/plain": [
              "Empty DataFrame\n",
              "Columns: [NO_OF_PROCEDURES]\n",
              "Index: []"
            ]
          },
          "metadata": {
            "tags": []
          },
          "execution_count": 49
        }
      ]
    },
    {
      "cell_type": "code",
      "metadata": {
        "colab": {
          "base_uri": "https://localhost:8080/",
          "height": 419
        },
        "id": "wssqzYT9AhdO",
        "outputId": "711a3324-8625-49e9-9460-5bd5611caea6"
      },
      "source": [
        "# Impute missing dates\n",
        "\n",
        "\n",
        "idx = pd.date_range(min(df.index), max(df.index))\n",
        "\n",
        "#idx\n",
        "\n",
        "xyz = df.reindex(idx, fill_value=0)\n",
        "\n",
        "#df_orig.reindex(idx,fill_value=0)\n",
        "\n",
        "xyz\n"
      ],
      "execution_count": null,
      "outputs": [
        {
          "output_type": "execute_result",
          "data": {
            "text/html": [
              "<div>\n",
              "<style scoped>\n",
              "    .dataframe tbody tr th:only-of-type {\n",
              "        vertical-align: middle;\n",
              "    }\n",
              "\n",
              "    .dataframe tbody tr th {\n",
              "        vertical-align: top;\n",
              "    }\n",
              "\n",
              "    .dataframe thead th {\n",
              "        text-align: right;\n",
              "    }\n",
              "</style>\n",
              "<table border=\"1\" class=\"dataframe\">\n",
              "  <thead>\n",
              "    <tr style=\"text-align: right;\">\n",
              "      <th></th>\n",
              "      <th>NO_OF_PROCEDURES</th>\n",
              "    </tr>\n",
              "  </thead>\n",
              "  <tbody>\n",
              "    <tr>\n",
              "      <th>2015-08-18</th>\n",
              "      <td>1</td>\n",
              "    </tr>\n",
              "    <tr>\n",
              "      <th>2015-08-19</th>\n",
              "      <td>0</td>\n",
              "    </tr>\n",
              "    <tr>\n",
              "      <th>2015-08-20</th>\n",
              "      <td>2</td>\n",
              "    </tr>\n",
              "    <tr>\n",
              "      <th>2015-08-21</th>\n",
              "      <td>0</td>\n",
              "    </tr>\n",
              "    <tr>\n",
              "      <th>2015-08-22</th>\n",
              "      <td>0</td>\n",
              "    </tr>\n",
              "    <tr>\n",
              "      <th>...</th>\n",
              "      <td>...</td>\n",
              "    </tr>\n",
              "    <tr>\n",
              "      <th>2021-04-15</th>\n",
              "      <td>0</td>\n",
              "    </tr>\n",
              "    <tr>\n",
              "      <th>2021-04-16</th>\n",
              "      <td>0</td>\n",
              "    </tr>\n",
              "    <tr>\n",
              "      <th>2021-04-17</th>\n",
              "      <td>0</td>\n",
              "    </tr>\n",
              "    <tr>\n",
              "      <th>2021-04-18</th>\n",
              "      <td>1</td>\n",
              "    </tr>\n",
              "    <tr>\n",
              "      <th>2021-04-19</th>\n",
              "      <td>2</td>\n",
              "    </tr>\n",
              "  </tbody>\n",
              "</table>\n",
              "<p>2072 rows × 1 columns</p>\n",
              "</div>"
            ],
            "text/plain": [
              "            NO_OF_PROCEDURES\n",
              "2015-08-18                 1\n",
              "2015-08-19                 0\n",
              "2015-08-20                 2\n",
              "2015-08-21                 0\n",
              "2015-08-22                 0\n",
              "...                      ...\n",
              "2021-04-15                 0\n",
              "2021-04-16                 0\n",
              "2021-04-17                 0\n",
              "2021-04-18                 1\n",
              "2021-04-19                 2\n",
              "\n",
              "[2072 rows x 1 columns]"
            ]
          },
          "metadata": {
            "tags": []
          },
          "execution_count": 52
        }
      ]
    },
    {
      "cell_type": "code",
      "metadata": {
        "colab": {
          "base_uri": "https://localhost:8080/",
          "height": 450
        },
        "id": "rhES1I6wWjiy",
        "outputId": "0f0cf88e-0ee7-44c7-9a98-a1448ffb42b2"
      },
      "source": [
        "# Create Weekly data\n",
        "\n",
        "df.resample('W-SUN', label='left').sum()"
      ],
      "execution_count": null,
      "outputs": [
        {
          "output_type": "execute_result",
          "data": {
            "text/html": [
              "<div>\n",
              "<style scoped>\n",
              "    .dataframe tbody tr th:only-of-type {\n",
              "        vertical-align: middle;\n",
              "    }\n",
              "\n",
              "    .dataframe tbody tr th {\n",
              "        vertical-align: top;\n",
              "    }\n",
              "\n",
              "    .dataframe thead th {\n",
              "        text-align: right;\n",
              "    }\n",
              "</style>\n",
              "<table border=\"1\" class=\"dataframe\">\n",
              "  <thead>\n",
              "    <tr style=\"text-align: right;\">\n",
              "      <th></th>\n",
              "      <th>NO_OF_PROCEDURES</th>\n",
              "    </tr>\n",
              "    <tr>\n",
              "      <th>PERFORM_DATE</th>\n",
              "      <th></th>\n",
              "    </tr>\n",
              "  </thead>\n",
              "  <tbody>\n",
              "    <tr>\n",
              "      <th>2015-08-16</th>\n",
              "      <td>3</td>\n",
              "    </tr>\n",
              "    <tr>\n",
              "      <th>2015-08-23</th>\n",
              "      <td>2</td>\n",
              "    </tr>\n",
              "    <tr>\n",
              "      <th>2015-08-30</th>\n",
              "      <td>0</td>\n",
              "    </tr>\n",
              "    <tr>\n",
              "      <th>2015-09-06</th>\n",
              "      <td>0</td>\n",
              "    </tr>\n",
              "    <tr>\n",
              "      <th>2015-09-13</th>\n",
              "      <td>0</td>\n",
              "    </tr>\n",
              "    <tr>\n",
              "      <th>...</th>\n",
              "      <td>...</td>\n",
              "    </tr>\n",
              "    <tr>\n",
              "      <th>2021-03-21</th>\n",
              "      <td>5</td>\n",
              "    </tr>\n",
              "    <tr>\n",
              "      <th>2021-03-28</th>\n",
              "      <td>7</td>\n",
              "    </tr>\n",
              "    <tr>\n",
              "      <th>2021-04-04</th>\n",
              "      <td>5</td>\n",
              "    </tr>\n",
              "    <tr>\n",
              "      <th>2021-04-11</th>\n",
              "      <td>3</td>\n",
              "    </tr>\n",
              "    <tr>\n",
              "      <th>2021-04-18</th>\n",
              "      <td>2</td>\n",
              "    </tr>\n",
              "  </tbody>\n",
              "</table>\n",
              "<p>297 rows × 1 columns</p>\n",
              "</div>"
            ],
            "text/plain": [
              "              NO_OF_PROCEDURES\n",
              "PERFORM_DATE                  \n",
              "2015-08-16                   3\n",
              "2015-08-23                   2\n",
              "2015-08-30                   0\n",
              "2015-09-06                   0\n",
              "2015-09-13                   0\n",
              "...                        ...\n",
              "2021-03-21                   5\n",
              "2021-03-28                   7\n",
              "2021-04-04                   5\n",
              "2021-04-11                   3\n",
              "2021-04-18                   2\n",
              "\n",
              "[297 rows x 1 columns]"
            ]
          },
          "metadata": {
            "tags": []
          },
          "execution_count": 75
        }
      ]
    },
    {
      "cell_type": "code",
      "metadata": {
        "colab": {
          "base_uri": "https://localhost:8080/",
          "height": 178
        },
        "id": "e_4bC7zR0oNa",
        "outputId": "109e39d6-fa0d-4039-cdda-4073415a6521"
      },
      "source": [
        "ts = xyz['NO_OF_PROCEDURES']\n",
        "ts.head(10)"
      ],
      "execution_count": null,
      "outputs": [
        {
          "output_type": "error",
          "ename": "NameError",
          "evalue": "ignored",
          "traceback": [
            "\u001b[0;31m---------------------------------------------------------------------------\u001b[0m",
            "\u001b[0;31mNameError\u001b[0m                                 Traceback (most recent call last)",
            "\u001b[0;32m<ipython-input-1-91d078045fdb>\u001b[0m in \u001b[0;36m<module>\u001b[0;34m()\u001b[0m\n\u001b[0;32m----> 1\u001b[0;31m \u001b[0mts\u001b[0m \u001b[0;34m=\u001b[0m \u001b[0mxyz\u001b[0m\u001b[0;34m[\u001b[0m\u001b[0;34m'NO_OF_PROCEDURES'\u001b[0m\u001b[0;34m]\u001b[0m\u001b[0;34m\u001b[0m\u001b[0;34m\u001b[0m\u001b[0m\n\u001b[0m\u001b[1;32m      2\u001b[0m \u001b[0mts\u001b[0m\u001b[0;34m.\u001b[0m\u001b[0mhead\u001b[0m\u001b[0;34m(\u001b[0m\u001b[0;36m10\u001b[0m\u001b[0;34m)\u001b[0m\u001b[0;34m\u001b[0m\u001b[0;34m\u001b[0m\u001b[0m\n",
            "\u001b[0;31mNameError\u001b[0m: name 'xyz' is not defined"
          ]
        }
      ]
    },
    {
      "cell_type": "code",
      "metadata": {
        "colab": {
          "base_uri": "https://localhost:8080/"
        },
        "id": "y7oixU4oaCve",
        "outputId": "cb22fa0b-ac89-4f05-ae40-bd27a12fdebc"
      },
      "source": [
        "# Create a validation dataset\n",
        "split_point = len(df) - 12\n",
        "dataset, validation = df[0:split_point], df[split_point:]\n",
        "print('Dataset %d, Validation %d' % (len(dataset), len(validation)))\n",
        "dataset.to_csv('dataset.csv', header=False)\n",
        "validation.to_csv('validation.csv', header=False)"
      ],
      "execution_count": null,
      "outputs": [
        {
          "output_type": "stream",
          "text": [
            "Dataset 1010, Validation 12\n"
          ],
          "name": "stdout"
        }
      ]
    },
    {
      "cell_type": "code",
      "metadata": {
        "colab": {
          "base_uri": "https://localhost:8080/"
        },
        "id": "_zAGe4TatbSw",
        "outputId": "73a1824e-2115-4e0b-8b1b-a512c9e3396b"
      },
      "source": [
        "# evaluate persistence model on time series\n",
        "from pandas import read_csv\n",
        "from sklearn.metrics import mean_squared_error\n",
        "from math import sqrt\n",
        "# load data\n",
        "series = read_csv('dataset.csv', header=None, index_col=0, parse_dates=True, squeeze=True)\n",
        "# prepare data\n",
        "X = series.values\n",
        "X = X.astype('float32')\n",
        "train_size = int(len(X) * 0.50)\n",
        "train, test = X[0:train_size], X[train_size:]\n",
        "# walk-forward validation\n",
        "history = [x for x in train]\n",
        "predictions = list()\n",
        "for i in range(len(test)):\n",
        "  # predict\n",
        "  history = [x for x in train]\n",
        "predictions = list()\n",
        "for i in range(len(test)):\n",
        "# report performance\n",
        "rmse = sqrt(mean_squared_error(test, predictions))\n",
        "print('RMSE: %.3f' % rmse)"
      ],
      "execution_count": null,
      "outputs": [
        {
          "output_type": "stream",
          "text": [
            ">Predicted=2.000, Expected=  2\n",
            ">Predicted=2.000, Expected=  1\n",
            ">Predicted=1.000, Expected=  2\n",
            ">Predicted=2.000, Expected=  1\n",
            ">Predicted=1.000, Expected=  1\n",
            ">Predicted=1.000, Expected=  1\n",
            ">Predicted=1.000, Expected=  2\n",
            ">Predicted=2.000, Expected=  3\n",
            ">Predicted=3.000, Expected=  2\n",
            ">Predicted=2.000, Expected=  2\n",
            ">Predicted=2.000, Expected=  2\n",
            ">Predicted=2.000, Expected=  1\n",
            ">Predicted=1.000, Expected=  1\n",
            ">Predicted=1.000, Expected=  1\n",
            ">Predicted=1.000, Expected=  1\n",
            ">Predicted=1.000, Expected=  2\n",
            ">Predicted=2.000, Expected=  2\n",
            ">Predicted=2.000, Expected=  6\n",
            ">Predicted=6.000, Expected=  2\n",
            ">Predicted=2.000, Expected=  1\n",
            ">Predicted=1.000, Expected=  2\n",
            ">Predicted=2.000, Expected=  1\n",
            ">Predicted=1.000, Expected=  1\n",
            ">Predicted=1.000, Expected=  1\n",
            ">Predicted=1.000, Expected=  3\n",
            ">Predicted=3.000, Expected=  1\n",
            ">Predicted=1.000, Expected=  3\n",
            ">Predicted=3.000, Expected=  4\n",
            ">Predicted=4.000, Expected=  2\n",
            ">Predicted=2.000, Expected=  2\n",
            ">Predicted=2.000, Expected=  3\n",
            ">Predicted=3.000, Expected=  1\n",
            ">Predicted=1.000, Expected=  1\n",
            ">Predicted=1.000, Expected=  1\n",
            ">Predicted=1.000, Expected=  1\n",
            ">Predicted=1.000, Expected=  1\n",
            ">Predicted=1.000, Expected=  1\n",
            ">Predicted=1.000, Expected=  1\n",
            ">Predicted=1.000, Expected=  2\n",
            ">Predicted=2.000, Expected=  2\n",
            ">Predicted=2.000, Expected=  1\n",
            ">Predicted=1.000, Expected=  1\n",
            ">Predicted=1.000, Expected=  1\n",
            ">Predicted=1.000, Expected=  4\n",
            ">Predicted=4.000, Expected=  1\n",
            ">Predicted=1.000, Expected=  1\n",
            ">Predicted=1.000, Expected=  2\n",
            ">Predicted=2.000, Expected=  2\n",
            ">Predicted=2.000, Expected=  2\n",
            ">Predicted=2.000, Expected=  1\n",
            ">Predicted=1.000, Expected=  1\n",
            ">Predicted=1.000, Expected=  1\n",
            ">Predicted=1.000, Expected=  2\n",
            ">Predicted=2.000, Expected=  1\n",
            ">Predicted=1.000, Expected=  1\n",
            ">Predicted=1.000, Expected=  1\n",
            ">Predicted=1.000, Expected=  1\n",
            ">Predicted=1.000, Expected=  1\n",
            ">Predicted=1.000, Expected=  2\n",
            ">Predicted=2.000, Expected=  2\n",
            ">Predicted=2.000, Expected=  2\n",
            ">Predicted=2.000, Expected=  1\n",
            ">Predicted=1.000, Expected=  2\n",
            ">Predicted=2.000, Expected=  1\n",
            ">Predicted=1.000, Expected=  1\n",
            ">Predicted=1.000, Expected=  2\n",
            ">Predicted=2.000, Expected=  1\n",
            ">Predicted=1.000, Expected=  1\n",
            ">Predicted=1.000, Expected=  1\n",
            ">Predicted=1.000, Expected=  2\n",
            ">Predicted=2.000, Expected=  1\n",
            ">Predicted=1.000, Expected=  1\n",
            ">Predicted=1.000, Expected=  3\n",
            ">Predicted=3.000, Expected=  1\n",
            ">Predicted=1.000, Expected=  1\n",
            ">Predicted=1.000, Expected=  1\n",
            ">Predicted=1.000, Expected=  1\n",
            ">Predicted=1.000, Expected=  2\n",
            ">Predicted=2.000, Expected=  1\n",
            ">Predicted=1.000, Expected=  2\n",
            ">Predicted=2.000, Expected=  2\n",
            ">Predicted=2.000, Expected=  1\n",
            ">Predicted=1.000, Expected=  2\n",
            ">Predicted=2.000, Expected=  1\n",
            ">Predicted=1.000, Expected=  1\n",
            ">Predicted=1.000, Expected=  2\n",
            ">Predicted=2.000, Expected=  1\n",
            ">Predicted=1.000, Expected=  3\n",
            ">Predicted=3.000, Expected=  1\n",
            ">Predicted=1.000, Expected=  2\n",
            ">Predicted=2.000, Expected=  2\n",
            ">Predicted=2.000, Expected=  1\n",
            ">Predicted=1.000, Expected=  2\n",
            ">Predicted=2.000, Expected=  1\n",
            ">Predicted=1.000, Expected=  1\n",
            ">Predicted=1.000, Expected=  1\n",
            ">Predicted=1.000, Expected=  2\n",
            ">Predicted=2.000, Expected=  3\n",
            ">Predicted=3.000, Expected=  2\n",
            ">Predicted=2.000, Expected=  1\n",
            ">Predicted=1.000, Expected=  1\n",
            ">Predicted=1.000, Expected=  1\n",
            ">Predicted=1.000, Expected=  3\n",
            ">Predicted=3.000, Expected=  2\n",
            ">Predicted=2.000, Expected=  2\n",
            ">Predicted=2.000, Expected=  1\n",
            ">Predicted=1.000, Expected=  1\n",
            ">Predicted=1.000, Expected=  1\n",
            ">Predicted=1.000, Expected=  1\n",
            ">Predicted=1.000, Expected=  2\n",
            ">Predicted=2.000, Expected=  2\n",
            ">Predicted=2.000, Expected=  1\n",
            ">Predicted=1.000, Expected=  1\n",
            ">Predicted=1.000, Expected=  2\n",
            ">Predicted=2.000, Expected=  5\n",
            ">Predicted=5.000, Expected=  3\n",
            ">Predicted=3.000, Expected=  1\n",
            ">Predicted=1.000, Expected=  2\n",
            ">Predicted=2.000, Expected=  1\n",
            ">Predicted=1.000, Expected=  1\n",
            ">Predicted=1.000, Expected=  2\n",
            ">Predicted=2.000, Expected=  2\n",
            ">Predicted=2.000, Expected=  3\n",
            ">Predicted=3.000, Expected=  3\n",
            ">Predicted=3.000, Expected=  4\n",
            ">Predicted=4.000, Expected=  1\n",
            ">Predicted=1.000, Expected=  1\n",
            ">Predicted=1.000, Expected=  1\n",
            ">Predicted=1.000, Expected=  1\n",
            ">Predicted=1.000, Expected=  2\n",
            ">Predicted=2.000, Expected=  1\n",
            ">Predicted=1.000, Expected=  1\n",
            ">Predicted=1.000, Expected=  2\n",
            ">Predicted=2.000, Expected=  1\n",
            ">Predicted=1.000, Expected=  2\n",
            ">Predicted=2.000, Expected=  1\n",
            ">Predicted=1.000, Expected=  1\n",
            ">Predicted=1.000, Expected=  1\n",
            ">Predicted=1.000, Expected=  2\n",
            ">Predicted=2.000, Expected=  1\n",
            ">Predicted=1.000, Expected=  2\n",
            ">Predicted=2.000, Expected=  2\n",
            ">Predicted=2.000, Expected=  1\n",
            ">Predicted=1.000, Expected=  1\n",
            ">Predicted=1.000, Expected=  2\n",
            ">Predicted=2.000, Expected=  2\n",
            ">Predicted=2.000, Expected=  2\n",
            ">Predicted=2.000, Expected=  2\n",
            ">Predicted=2.000, Expected=  1\n",
            ">Predicted=1.000, Expected=  1\n",
            ">Predicted=1.000, Expected=  2\n",
            ">Predicted=2.000, Expected=  1\n",
            ">Predicted=1.000, Expected=  1\n",
            ">Predicted=1.000, Expected=  2\n",
            ">Predicted=2.000, Expected=  1\n",
            ">Predicted=1.000, Expected=  1\n",
            ">Predicted=1.000, Expected=  1\n",
            ">Predicted=1.000, Expected=  2\n",
            ">Predicted=2.000, Expected=  1\n",
            ">Predicted=1.000, Expected=  2\n",
            ">Predicted=2.000, Expected=  1\n",
            ">Predicted=1.000, Expected=  3\n",
            ">Predicted=3.000, Expected=  8\n",
            ">Predicted=8.000, Expected=  1\n",
            ">Predicted=1.000, Expected=  2\n",
            ">Predicted=2.000, Expected=  3\n",
            ">Predicted=3.000, Expected=  1\n",
            ">Predicted=1.000, Expected=  1\n",
            ">Predicted=1.000, Expected=  2\n",
            ">Predicted=2.000, Expected=  2\n",
            ">Predicted=2.000, Expected=  1\n",
            ">Predicted=1.000, Expected=  3\n",
            ">Predicted=3.000, Expected=  3\n",
            ">Predicted=3.000, Expected=  2\n",
            ">Predicted=2.000, Expected=  2\n",
            ">Predicted=2.000, Expected=  4\n",
            ">Predicted=4.000, Expected=  1\n",
            ">Predicted=1.000, Expected=  1\n",
            ">Predicted=1.000, Expected=  2\n",
            ">Predicted=2.000, Expected=  2\n",
            ">Predicted=2.000, Expected=  1\n",
            ">Predicted=1.000, Expected=  1\n",
            ">Predicted=1.000, Expected=  2\n",
            ">Predicted=2.000, Expected=  2\n",
            ">Predicted=2.000, Expected=  1\n",
            ">Predicted=1.000, Expected=  2\n",
            ">Predicted=2.000, Expected=  1\n",
            ">Predicted=1.000, Expected=  1\n",
            ">Predicted=1.000, Expected=  3\n",
            ">Predicted=3.000, Expected=  1\n",
            ">Predicted=1.000, Expected=  2\n",
            ">Predicted=2.000, Expected=  1\n",
            ">Predicted=1.000, Expected=  2\n",
            ">Predicted=2.000, Expected=  2\n",
            ">Predicted=2.000, Expected=  1\n",
            ">Predicted=1.000, Expected=  1\n",
            ">Predicted=1.000, Expected=  1\n",
            ">Predicted=1.000, Expected=  2\n",
            ">Predicted=2.000, Expected=  2\n",
            ">Predicted=2.000, Expected=  1\n",
            ">Predicted=1.000, Expected=  1\n",
            ">Predicted=1.000, Expected=  2\n",
            ">Predicted=2.000, Expected=  3\n",
            ">Predicted=3.000, Expected=  2\n",
            ">Predicted=2.000, Expected=  1\n",
            ">Predicted=1.000, Expected=  3\n",
            ">Predicted=3.000, Expected=  1\n",
            ">Predicted=1.000, Expected=  3\n",
            ">Predicted=3.000, Expected=  4\n",
            ">Predicted=4.000, Expected=  1\n",
            ">Predicted=1.000, Expected=  1\n",
            ">Predicted=1.000, Expected=  2\n",
            ">Predicted=2.000, Expected=  1\n",
            ">Predicted=1.000, Expected=  1\n",
            ">Predicted=1.000, Expected=  2\n",
            ">Predicted=2.000, Expected=  2\n",
            ">Predicted=2.000, Expected=  2\n",
            ">Predicted=2.000, Expected=  1\n",
            ">Predicted=1.000, Expected=  1\n",
            ">Predicted=1.000, Expected=  1\n",
            ">Predicted=1.000, Expected=  1\n",
            ">Predicted=1.000, Expected=  1\n",
            ">Predicted=1.000, Expected=  1\n",
            ">Predicted=1.000, Expected=  3\n",
            ">Predicted=3.000, Expected=  1\n",
            ">Predicted=1.000, Expected=  1\n",
            ">Predicted=1.000, Expected=  3\n",
            ">Predicted=3.000, Expected=  1\n",
            ">Predicted=1.000, Expected=  1\n",
            ">Predicted=1.000, Expected=  2\n",
            ">Predicted=2.000, Expected=  2\n",
            ">Predicted=2.000, Expected=  2\n",
            ">Predicted=2.000, Expected=  1\n",
            ">Predicted=1.000, Expected=  1\n",
            ">Predicted=1.000, Expected=  1\n",
            ">Predicted=1.000, Expected=  1\n",
            ">Predicted=1.000, Expected=  3\n",
            ">Predicted=3.000, Expected=  2\n",
            ">Predicted=2.000, Expected=  2\n",
            ">Predicted=2.000, Expected=  1\n",
            ">Predicted=1.000, Expected=  1\n",
            ">Predicted=1.000, Expected=  4\n",
            ">Predicted=4.000, Expected=  1\n",
            ">Predicted=1.000, Expected=  1\n",
            ">Predicted=1.000, Expected=  1\n",
            ">Predicted=1.000, Expected=  1\n",
            ">Predicted=1.000, Expected=  1\n",
            ">Predicted=1.000, Expected=  3\n",
            ">Predicted=3.000, Expected=  1\n",
            ">Predicted=1.000, Expected=  2\n",
            ">Predicted=2.000, Expected=  1\n",
            ">Predicted=1.000, Expected=  1\n",
            ">Predicted=1.000, Expected=  1\n",
            ">Predicted=1.000, Expected=  1\n",
            ">Predicted=1.000, Expected=  4\n",
            ">Predicted=4.000, Expected=  1\n",
            ">Predicted=1.000, Expected=  2\n",
            ">Predicted=2.000, Expected=  3\n",
            ">Predicted=3.000, Expected=  1\n",
            ">Predicted=1.000, Expected=  1\n",
            ">Predicted=1.000, Expected=  2\n",
            ">Predicted=2.000, Expected=  2\n",
            ">Predicted=2.000, Expected=  2\n",
            ">Predicted=2.000, Expected=  3\n",
            ">Predicted=3.000, Expected=  1\n",
            ">Predicted=1.000, Expected=  2\n",
            ">Predicted=2.000, Expected=  2\n",
            ">Predicted=2.000, Expected=  1\n",
            ">Predicted=1.000, Expected=  1\n",
            ">Predicted=1.000, Expected=  2\n",
            ">Predicted=2.000, Expected=  1\n",
            ">Predicted=1.000, Expected=  2\n",
            ">Predicted=2.000, Expected=  5\n",
            ">Predicted=5.000, Expected=  1\n",
            ">Predicted=1.000, Expected=  1\n",
            ">Predicted=1.000, Expected=  1\n",
            ">Predicted=1.000, Expected=  1\n",
            ">Predicted=1.000, Expected=  1\n",
            ">Predicted=1.000, Expected=  2\n",
            ">Predicted=2.000, Expected=  3\n",
            ">Predicted=3.000, Expected=  2\n",
            ">Predicted=2.000, Expected=  2\n",
            ">Predicted=2.000, Expected=  3\n",
            ">Predicted=3.000, Expected=  2\n",
            ">Predicted=2.000, Expected=  1\n",
            ">Predicted=1.000, Expected=  1\n",
            ">Predicted=1.000, Expected=  2\n",
            ">Predicted=2.000, Expected=  1\n",
            ">Predicted=1.000, Expected=  1\n",
            ">Predicted=1.000, Expected=  2\n",
            ">Predicted=2.000, Expected=  1\n",
            ">Predicted=1.000, Expected=  2\n",
            ">Predicted=2.000, Expected=  1\n",
            ">Predicted=1.000, Expected=  1\n",
            ">Predicted=1.000, Expected=  1\n",
            ">Predicted=1.000, Expected=  3\n",
            ">Predicted=3.000, Expected=  1\n",
            ">Predicted=1.000, Expected=  1\n",
            ">Predicted=1.000, Expected=  1\n",
            ">Predicted=1.000, Expected=  3\n",
            ">Predicted=3.000, Expected=  1\n",
            ">Predicted=1.000, Expected=  2\n",
            ">Predicted=2.000, Expected=  2\n",
            ">Predicted=2.000, Expected=  1\n",
            ">Predicted=1.000, Expected=  1\n",
            ">Predicted=1.000, Expected=  2\n",
            ">Predicted=2.000, Expected=  1\n",
            ">Predicted=1.000, Expected=  1\n",
            ">Predicted=1.000, Expected=  1\n",
            ">Predicted=1.000, Expected=  2\n",
            ">Predicted=2.000, Expected=  1\n",
            ">Predicted=1.000, Expected=  3\n",
            ">Predicted=3.000, Expected=  1\n",
            ">Predicted=1.000, Expected=  2\n",
            ">Predicted=2.000, Expected=  1\n",
            ">Predicted=1.000, Expected=  1\n",
            ">Predicted=1.000, Expected=  2\n",
            ">Predicted=2.000, Expected=  2\n",
            ">Predicted=2.000, Expected=  1\n",
            ">Predicted=1.000, Expected=  1\n",
            ">Predicted=1.000, Expected=  2\n",
            ">Predicted=2.000, Expected=  1\n",
            ">Predicted=1.000, Expected=  1\n",
            ">Predicted=1.000, Expected=  1\n",
            ">Predicted=1.000, Expected=  1\n",
            ">Predicted=1.000, Expected=  2\n",
            ">Predicted=2.000, Expected=  2\n",
            ">Predicted=2.000, Expected=  1\n",
            ">Predicted=1.000, Expected=  1\n",
            ">Predicted=1.000, Expected=  1\n",
            ">Predicted=1.000, Expected=  1\n",
            ">Predicted=1.000, Expected=  1\n",
            ">Predicted=1.000, Expected=  2\n",
            ">Predicted=2.000, Expected=  1\n",
            ">Predicted=1.000, Expected=  1\n",
            ">Predicted=1.000, Expected=  1\n",
            ">Predicted=1.000, Expected=  2\n",
            ">Predicted=2.000, Expected=  2\n",
            ">Predicted=2.000, Expected=  2\n",
            ">Predicted=2.000, Expected=  3\n",
            ">Predicted=3.000, Expected=  3\n",
            ">Predicted=3.000, Expected=  2\n",
            ">Predicted=2.000, Expected=  2\n",
            ">Predicted=2.000, Expected=  1\n",
            ">Predicted=1.000, Expected=  2\n",
            ">Predicted=2.000, Expected=  1\n",
            ">Predicted=1.000, Expected=  1\n",
            ">Predicted=1.000, Expected=  3\n",
            ">Predicted=3.000, Expected=  2\n",
            ">Predicted=2.000, Expected=  3\n",
            ">Predicted=3.000, Expected=  4\n",
            ">Predicted=4.000, Expected=  1\n",
            ">Predicted=1.000, Expected=  1\n",
            ">Predicted=1.000, Expected=  1\n",
            ">Predicted=1.000, Expected=  1\n",
            ">Predicted=1.000, Expected=  3\n",
            ">Predicted=3.000, Expected=  2\n",
            ">Predicted=2.000, Expected=  2\n",
            ">Predicted=2.000, Expected=  1\n",
            ">Predicted=1.000, Expected=  2\n",
            ">Predicted=2.000, Expected=  1\n",
            ">Predicted=1.000, Expected=  2\n",
            ">Predicted=2.000, Expected=  2\n",
            ">Predicted=2.000, Expected=  2\n",
            ">Predicted=2.000, Expected=  3\n",
            ">Predicted=3.000, Expected=  2\n",
            ">Predicted=2.000, Expected=  1\n",
            ">Predicted=1.000, Expected=  3\n",
            ">Predicted=3.000, Expected=  2\n",
            ">Predicted=2.000, Expected=  2\n",
            ">Predicted=2.000, Expected=  1\n",
            ">Predicted=1.000, Expected=  2\n",
            ">Predicted=2.000, Expected=  1\n",
            ">Predicted=1.000, Expected=  1\n",
            ">Predicted=1.000, Expected=  1\n",
            ">Predicted=1.000, Expected=  1\n",
            ">Predicted=1.000, Expected=  1\n",
            ">Predicted=1.000, Expected=  2\n",
            ">Predicted=2.000, Expected=  1\n",
            ">Predicted=1.000, Expected=  1\n",
            ">Predicted=1.000, Expected=  1\n",
            ">Predicted=1.000, Expected=  3\n",
            ">Predicted=3.000, Expected=  1\n",
            ">Predicted=1.000, Expected=  1\n",
            ">Predicted=1.000, Expected=  2\n",
            ">Predicted=2.000, Expected=  1\n",
            ">Predicted=1.000, Expected=  1\n",
            ">Predicted=1.000, Expected=  2\n",
            ">Predicted=2.000, Expected=  1\n",
            ">Predicted=1.000, Expected=  1\n",
            ">Predicted=1.000, Expected=  1\n",
            ">Predicted=1.000, Expected=  1\n",
            ">Predicted=1.000, Expected=  2\n",
            ">Predicted=2.000, Expected=  1\n",
            ">Predicted=1.000, Expected=  1\n",
            ">Predicted=1.000, Expected=  2\n",
            ">Predicted=2.000, Expected=  5\n",
            ">Predicted=5.000, Expected=  1\n",
            ">Predicted=1.000, Expected=  2\n",
            ">Predicted=2.000, Expected=  2\n",
            ">Predicted=2.000, Expected=  3\n",
            ">Predicted=3.000, Expected=  1\n",
            ">Predicted=1.000, Expected=  2\n",
            ">Predicted=2.000, Expected=  3\n",
            ">Predicted=3.000, Expected=  1\n",
            ">Predicted=1.000, Expected=  1\n",
            ">Predicted=1.000, Expected=  2\n",
            ">Predicted=2.000, Expected=  1\n",
            ">Predicted=1.000, Expected=  3\n",
            ">Predicted=3.000, Expected=  1\n",
            ">Predicted=1.000, Expected=  1\n",
            ">Predicted=1.000, Expected=  3\n",
            ">Predicted=3.000, Expected=  2\n",
            ">Predicted=2.000, Expected=  1\n",
            ">Predicted=1.000, Expected=  1\n",
            ">Predicted=1.000, Expected=  1\n",
            ">Predicted=1.000, Expected=  1\n",
            ">Predicted=1.000, Expected=  1\n",
            ">Predicted=1.000, Expected=  2\n",
            ">Predicted=2.000, Expected=  2\n",
            ">Predicted=2.000, Expected=  1\n",
            ">Predicted=1.000, Expected=  1\n",
            ">Predicted=1.000, Expected=  1\n",
            ">Predicted=1.000, Expected=  2\n",
            ">Predicted=2.000, Expected=  2\n",
            ">Predicted=2.000, Expected=  1\n",
            ">Predicted=1.000, Expected=  1\n",
            ">Predicted=1.000, Expected=  2\n",
            ">Predicted=2.000, Expected=  1\n",
            ">Predicted=1.000, Expected=  2\n",
            ">Predicted=2.000, Expected=  2\n",
            ">Predicted=2.000, Expected=  1\n",
            ">Predicted=1.000, Expected=  2\n",
            ">Predicted=2.000, Expected=  1\n",
            ">Predicted=1.000, Expected=  1\n",
            ">Predicted=1.000, Expected=  4\n",
            ">Predicted=4.000, Expected=  1\n",
            ">Predicted=1.000, Expected=  2\n",
            ">Predicted=2.000, Expected=  4\n",
            ">Predicted=4.000, Expected=  1\n",
            ">Predicted=1.000, Expected=  1\n",
            ">Predicted=1.000, Expected=  3\n",
            ">Predicted=3.000, Expected=  1\n",
            ">Predicted=1.000, Expected=  4\n",
            ">Predicted=4.000, Expected=  2\n",
            ">Predicted=2.000, Expected=  2\n",
            ">Predicted=2.000, Expected=  2\n",
            ">Predicted=2.000, Expected=  2\n",
            ">Predicted=2.000, Expected=  1\n",
            ">Predicted=1.000, Expected=  1\n",
            ">Predicted=1.000, Expected=  1\n",
            ">Predicted=1.000, Expected=  1\n",
            ">Predicted=1.000, Expected=  1\n",
            ">Predicted=1.000, Expected=  3\n",
            ">Predicted=3.000, Expected=  1\n",
            ">Predicted=1.000, Expected=  1\n",
            ">Predicted=1.000, Expected=  1\n",
            ">Predicted=1.000, Expected=  1\n",
            ">Predicted=1.000, Expected=  1\n",
            ">Predicted=1.000, Expected=  1\n",
            ">Predicted=1.000, Expected=  1\n",
            ">Predicted=1.000, Expected=  3\n",
            ">Predicted=3.000, Expected=  1\n",
            ">Predicted=1.000, Expected=  1\n",
            ">Predicted=1.000, Expected=  1\n",
            ">Predicted=1.000, Expected=  1\n",
            ">Predicted=1.000, Expected=  1\n",
            ">Predicted=1.000, Expected=  2\n",
            ">Predicted=2.000, Expected=  1\n",
            ">Predicted=1.000, Expected=  1\n",
            ">Predicted=1.000, Expected=  1\n",
            ">Predicted=1.000, Expected=  1\n",
            ">Predicted=1.000, Expected=  1\n",
            ">Predicted=1.000, Expected=  2\n",
            ">Predicted=2.000, Expected=  1\n",
            ">Predicted=1.000, Expected=  1\n",
            ">Predicted=1.000, Expected=  1\n",
            ">Predicted=1.000, Expected=  1\n",
            ">Predicted=1.000, Expected=  3\n",
            ">Predicted=3.000, Expected=  3\n",
            ">Predicted=3.000, Expected=  1\n",
            ">Predicted=1.000, Expected=  1\n",
            ">Predicted=1.000, Expected=  1\n",
            ">Predicted=1.000, Expected=  1\n",
            ">Predicted=1.000, Expected=  1\n",
            ">Predicted=1.000, Expected=  1\n",
            ">Predicted=1.000, Expected=  1\n",
            ">Predicted=1.000, Expected=  1\n",
            ">Predicted=1.000, Expected=  3\n",
            ">Predicted=3.000, Expected=  1\n",
            ">Predicted=1.000, Expected=  1\n",
            ">Predicted=1.000, Expected=  1\n",
            ">Predicted=1.000, Expected=  1\n",
            ">Predicted=1.000, Expected=  1\n",
            ">Predicted=1.000, Expected=  1\n",
            ">Predicted=1.000, Expected=  1\n",
            ">Predicted=1.000, Expected=  1\n",
            ">Predicted=1.000, Expected=  1\n",
            ">Predicted=1.000, Expected=  2\n",
            ">Predicted=2.000, Expected=  2\n",
            ">Predicted=2.000, Expected=  2\n",
            ">Predicted=2.000, Expected=  1\n",
            ">Predicted=1.000, Expected=  2\n",
            ">Predicted=2.000, Expected=  1\n",
            ">Predicted=1.000, Expected=  2\n",
            "RMSE: 1.197\n"
          ],
          "name": "stdout"
        }
      ]
    },
    {
      "cell_type": "code",
      "metadata": {
        "colab": {
          "base_uri": "https://localhost:8080/"
        },
        "id": "X-7axv-stk_q",
        "outputId": "8d586a67-a922-41a4-826f-53a229bc3f5e"
      },
      "source": [
        "# Data Analysis\n",
        "\n",
        "# summary statistics of time series\n",
        "from pandas import read_csv\n",
        "series = read_csv('dataset.csv', header=None, index_col=0, parse_dates=True, squeeze=True)\n",
        "print(series.describe())\n"
      ],
      "execution_count": null,
      "outputs": [
        {
          "output_type": "stream",
          "text": [
            "count    1010.000000\n",
            "mean        1.662376\n",
            "std         0.925292\n",
            "min         1.000000\n",
            "25%         1.000000\n",
            "50%         1.000000\n",
            "75%         2.000000\n",
            "max         8.000000\n",
            "Name: 1, dtype: float64\n"
          ],
          "name": "stdout"
        }
      ]
    },
    {
      "cell_type": "code",
      "metadata": {
        "colab": {
          "base_uri": "https://localhost:8080/",
          "height": 269
        },
        "id": "HQR-b1o6t7fv",
        "outputId": "2e1f4427-9bcc-465f-bd20-0ac1f5574667"
      },
      "source": [
        "# line plot of time series\n",
        "from pandas import read_csv\n",
        "from matplotlib import pyplot\n",
        "series = read_csv('dataset.csv', header=None, index_col=0, parse_dates=True, squeeze=True)\n",
        "series.plot()\n",
        "pyplot.show()"
      ],
      "execution_count": null,
      "outputs": [
        {
          "output_type": "display_data",
          "data": {
            "image/png": "[encoded data removed]",
            "text/plain": [
              "<Figure size 432x288 with 1 Axes>"
            ]
          },
          "metadata": {
            "tags": [],
            "needs_background": "light"
          }
        }
      ]
    },
    {
      "cell_type": "code",
      "metadata": {
        "colab": {
          "base_uri": "https://localhost:8080/",
          "height": 34
        },
        "id": "-9DtsYPEuC4J",
        "outputId": "f0b33da8-6d00-4830-9a26-b4d9aba5b2a0"
      },
      "source": [
        "# multiple line plots of time series\n",
        "from pandas import read_csv\n",
        "from pandas import DataFrame\n",
        "from pandas import Grouper\n",
        "from matplotlib import pyplot\n",
        "series = read_csv('dataset.csv', header=None, index_col=0, parse_dates=True, squeeze=True)\n",
        "groups = series['1964':'1970'].groupby(Grouper(freq='A'))\n",
        "years = DataFrame()\n",
        "pyplot.figure()\n",
        "i = 1\n",
        "n_groups = len(groups)\n",
        "for name, group in groups:\n",
        "  pyplot.subplot((n_groups*100) + 10 + i)\n",
        "  i += 1\n",
        "  pyplot.plot(group)\n",
        "pyplot.show()"
      ],
      "execution_count": null,
      "outputs": [
        {
          "output_type": "display_data",
          "data": {
            "text/plain": [
              "<Figure size 432x288 with 0 Axes>"
            ]
          },
          "metadata": {
            "tags": []
          }
        }
      ]
    },
    {
      "cell_type": "code",
      "metadata": {
        "colab": {
          "base_uri": "https://localhost:8080/",
          "height": 265
        },
        "id": "YkLv3q0nuTg8",
        "outputId": "9c64885a-201f-41a0-f9c7-12de3c5a03dd"
      },
      "source": [
        "# density plots of time series\n",
        "from pandas import read_csv\n",
        "from matplotlib import pyplot\n",
        "series = read_csv('dataset.csv', header=None, index_col=0, parse_dates=True, squeeze=True)\n",
        "pyplot.figure(1)\n",
        "pyplot.subplot(211)\n",
        "series.hist()\n",
        "pyplot.subplot(212)\n",
        "series.plot(kind='kde')\n",
        "pyplot.show()"
      ],
      "execution_count": null,
      "outputs": [
        {
          "output_type": "display_data",
          "data": {
            "image/png": "[encoded data removed]",
            "text/plain": [
              "<Figure size 432x288 with 2 Axes>"
            ]
          },
          "metadata": {
            "tags": [],
            "needs_background": "light"
          }
        }
      ]
    },
    {
      "cell_type": "code",
      "metadata": {
        "colab": {
          "base_uri": "https://localhost:8080/",
          "height": 425
        },
        "id": "uidABfcIl2iM",
        "outputId": "8a3bad84-ac83-4740-f98d-ab7fe5a67105"
      },
      "source": [
        "# Manually Configured ARIMA\n",
        "\n",
        "# create and summarize stationary version of time series\n",
        "from pandas import read_csv\n",
        "from pandas import Series\n",
        "from statsmodels.tsa.stattools import adfuller\n",
        "from matplotlib import pyplot\n",
        "# create a differenced series\n",
        "def difference(dataset, interval=1):\n",
        "  diff = list()\n",
        "  for i in range(interval, len(dataset)):\n",
        "    value = dataset[i] - dataset[i - interval]\n",
        "    diff.append(value)\n",
        "  return Series(diff)\n",
        "series = read_csv('dataset.csv', header=None, index_col=0, parse_dates=True, squeeze=True)\n",
        "X = series.values\n",
        "X = X.astype('float32')\n",
        "# difference data\n",
        "months_in_year = 12\n",
        "stationary = difference(X, months_in_year)\n",
        "stationary.index = series.index[months_in_year:]\n",
        "# check if stationary\n",
        "result = adfuller(stationary)\n",
        "print('ADF Statistic: %f' % result[0])\n",
        "print('p-value: %f' % result[1])\n",
        "print('Critical Values:')\n",
        "for key, value in result[4].items():\n",
        "  print('\\t%s: %.3f' % (key, value))\n",
        "# save\n",
        "stationary.to_csv('stationary.csv', header=False)\n",
        "# plot\n",
        "stationary.plot()\n",
        "pyplot.show()\n"
      ],
      "execution_count": null,
      "outputs": [
        {
          "output_type": "stream",
          "text": [
            "/usr/local/lib/python3.7/dist-packages/statsmodels/tools/_testing.py:19: FutureWarning: pandas.util.testing is deprecated. Use the functions in the public API at pandas.testing instead.\n",
            "  import pandas.util.testing as tm\n"
          ],
          "name": "stderr"
        },
        {
          "output_type": "stream",
          "text": [
            "ADF Statistic: -13.139160\n",
            "p-value: 0.000000\n",
            "Critical Values:\n",
            "\t1%: -3.437\n",
            "\t5%: -2.864\n",
            "\t10%: -2.568\n"
          ],
          "name": "stdout"
        },
        {
          "output_type": "display_data",
          "data": {
            "image/png": "[encoded data removed]",
            "text/plain": [
              "<Figure size 432x288 with 1 Axes>"
            ]
          },
          "metadata": {
            "tags": [],
            "needs_background": "light"
          }
        }
      ]
    },
    {
      "cell_type": "code",
      "metadata": {
        "colab": {
          "base_uri": "https://localhost:8080/"
        },
        "id": "nnfPmQmwueur",
        "outputId": "fc7905ac-1eda-431f-d377-d133c01fe9a3"
      },
      "source": [
        "# grid search ARIMA parameters for time series\n",
        "import warnings\n",
        "from pandas import read_csv\n",
        "from statsmodels.tsa.arima_model import ARIMA\n",
        "from sklearn.metrics import mean_squared_error\n",
        "from math import sqrt\n",
        "import numpy\n",
        "# create a differenced series\n",
        "def difference(dataset, interval=1):\n",
        "  diff = list()\n",
        "  for i in range(interval, len(dataset)):\n",
        "    value = dataset[i] - dataset[i - interval]\n",
        "    diff.append(value)\n",
        "  return numpy.array(diff)\n",
        "\n",
        "# invert differenced value\n",
        "def inverse_difference(history, yhat, interval=1):\n",
        "  return yhat + history[-interval]\n",
        "# evaluate an ARIMA model for a given order (p,d,q) and return RMSE\n",
        "def evaluate_arima_model(X, arima_order):\n",
        "# prepare training dataset\n",
        "  X = X.astype('float32')\n",
        "  train_size = int(len(X) * 0.50)\n",
        "  train, test = X[0:train_size], X[train_size:]\n",
        "  history = [x for x in train]\n",
        "  # make predictions\n",
        "  predictions = list()\n",
        "  for t in range(len(test)):\n",
        "    # difference data\n",
        "    months_in_year = 12\n",
        "    diff = difference(history, months_in_year)\n",
        "    model = ARIMA(diff, order=arima_order)\n",
        "    model_fit = model.fit(trend='nc', disp=0)\n",
        "    yhat = model_fit.forecast()[0]\n",
        "    yhat = inverse_difference(history, yhat, months_in_year)\n",
        "    predictions.append(yhat)\n",
        "    history.append(test[t])\n",
        "  # calculate out of sample error\n",
        "  rmse = sqrt(mean_squared_error(test, predictions))\n",
        "  return rmse\n",
        "# evaluate combinations of p, d and q values for an ARIMA model\n",
        "def evaluate_models(dataset, p_values, d_values, q_values):\n",
        "  dataset = dataset.astype('float32')\n",
        "  best_score, best_cfg = float(\"inf\"), None\n",
        "  for p in p_values:\n",
        "    for d in d_values:\n",
        "      for q in q_values:\n",
        "        order = (p,d,q)\n",
        "        try:\n",
        "          rmse = evaluate_arima_model(dataset, order)\n",
        "          if rmse < best_score:\n",
        "            best_score, best_cfg = rmse, order\n",
        "          print('ARIMA%s RMSE=%.3f' % (order,rmse))\n",
        "        except:\n",
        "            continue\n",
        "  print('Best ARIMA%s RMSE=%.3f' % (best_cfg, best_score))\n",
        "# load dataset\n",
        "series = read_csv('dataset.csv', header=None, index_col=0, parse_dates=True, squeeze=True)\n",
        "# evaluate parameters\n",
        "p_values = range(0, 7)\n",
        "d_values = range(0, 3)\n",
        "q_values = range(0, 7)\n",
        "warnings.filterwarnings(\"ignore\")\n",
        "evaluate_models(series.values, p_values, d_values, q_values)\n"
      ],
      "execution_count": null,
      "outputs": [
        {
          "output_type": "stream",
          "text": [
            "ARIMA(0, 0, 1) RMSE=1.214\n",
            "ARIMA(0, 0, 2) RMSE=1.211\n",
            "ARIMA(0, 0, 3) RMSE=1.208\n",
            "ARIMA(0, 0, 4) RMSE=1.211\n",
            "ARIMA(0, 0, 5) RMSE=1.210\n",
            "ARIMA(0, 0, 6) RMSE=1.225\n",
            "ARIMA(0, 1, 1) RMSE=1.217\n",
            "ARIMA(0, 2, 1) RMSE=1.660\n",
            "ARIMA(1, 0, 0) RMSE=1.215\n",
            "ARIMA(1, 0, 1) RMSE=1.188\n",
            "ARIMA(1, 0, 2) RMSE=1.201\n",
            "ARIMA(1, 0, 3) RMSE=1.212\n",
            "ARIMA(1, 0, 4) RMSE=1.211\n",
            "ARIMA(1, 0, 5) RMSE=1.213\n"
          ],
          "name": "stdout"
        }
      ]
    },
    {
      "cell_type": "code",
      "metadata": {
        "id": "AeiviW0ru-PE"
      },
      "source": [],
      "execution_count": null,
      "outputs": []
    }
  ]
}